{
 "cells": [
  {
   "cell_type": "code",
   "execution_count": 1,
   "id": "6db9983e-1ea1-4696-870c-69d8e4fed9e9",
   "metadata": {},
   "outputs": [],
   "source": [
    "import leancanvas"
   ]
  },
  {
   "cell_type": "code",
   "execution_count": 2,
   "id": "e5f3876f-b03b-450a-ada4-910f7fd4d220",
   "metadata": {},
   "outputs": [
    {
     "ename": "NameError",
     "evalue": "name 'main' is not defined",
     "output_type": "error",
     "traceback": [
      "\u001b[0;31m---------------------------------------------------------------------------\u001b[0m",
      "\u001b[0;31mNameError\u001b[0m                                 Traceback (most recent call last)",
      "Cell \u001b[0;32mIn[2], line 1\u001b[0m\n\u001b[0;32m----> 1\u001b[0m \u001b[43mmain\u001b[49m\n",
      "\u001b[0;31mNameError\u001b[0m: name 'main' is not defined"
     ]
    }
   ],
   "source": [
    "main"
   ]
  },
  {
   "cell_type": "code",
   "execution_count": 4,
   "id": "950a9b46-cd76-44b2-9f18-c461f90a062d",
   "metadata": {},
   "outputs": [
    {
     "name": "stderr",
     "output_type": "stream",
     "text": [
      "usage: ipykernel_launcher.py [-h] [-i INPUT] [-o OUTPUT]\n",
      "ipykernel_launcher.py: error: unrecognized arguments: -f /home/jovyan/.local/share/jupyter/runtime/kernel-c18df0a7-648e-41c7-abee-5df9d6b1bd55.json\n"
     ]
    },
    {
     "ename": "SystemExit",
     "evalue": "2",
     "output_type": "error",
     "traceback": [
      "An exception has occurred, use %tb to see the full traceback.\n",
      "\u001b[0;31mSystemExit\u001b[0m\u001b[0;31m:\u001b[0m 2\n"
     ]
    },
    {
     "name": "stderr",
     "output_type": "stream",
     "text": [
      "/opt/conda/lib/python3.11/site-packages/IPython/core/interactiveshell.py:3516: UserWarning: To exit: use 'exit', 'quit', or Ctrl-D.\n",
      "  warn(\"To exit: use 'exit', 'quit', or Ctrl-D.\", stacklevel=1)\n"
     ]
    }
   ],
   "source": [
    "leancanvas.main()"
   ]
  },
  {
   "cell_type": "code",
   "execution_count": 16,
   "id": "d966290b-6ead-4f3e-88ad-53a8478252d3",
   "metadata": {},
   "outputs": [],
   "source": [
    "from pptx import Presentation\n",
    "from pptx.util import Inches, Pt\n",
    "from pptx.enum.text import PP_ALIGN, MSO_ANCHOR, MSO_UNDERLINE\n",
    "from pptx.dml.color import RGBColor\n",
    "import yaml\n",
    "import argparse\n",
    "\n",
    "def create_slide(prs, title):\n",
    "    blank_slide_layout = prs.slide_layouts[6]  # blank layout\n",
    "    slide = prs.slides.add_slide(blank_slide_layout)\n",
    "    textbox = slide.shapes.add_textbox(Inches(0.5), Inches(0.5), Inches(14.5), Inches(0.5))\n",
    "    tf = textbox.text_frame\n",
    "    p = tf.add_paragraph()\n",
    "    p.text = title\n",
    "    p.font.size = Pt(20)\n",
    "    p.alignment = PP_ALIGN.CENTER\n",
    "    return slide\n",
    "\n",
    "def add_textbox(slide, left, top, width, height, text, title):\n",
    "    textbox = slide.shapes.add_textbox(Inches(left), Inches(top), Inches(width), Inches(height))\n",
    "    tf = textbox.text_frame\n",
    "    tf.word_wrap = True\n",
    "    tf.auto_size = False\n",
    "    tf.text_anchor = MSO_ANCHOR.TOP\n",
    "    tf.clear()\n",
    "\n",
    "    # Add title with larger font size, green color, and underline\n",
    "    p = tf.paragraphs[0]\n",
    "    p.text = title\n",
    "    p.font.size = Pt(16)\n",
    "    p.font.color.rgb = RGBColor(0x00, 0x80, 0x00)  # Green color\n",
    "    p.font.underline = MSO_UNDERLINE.SINGLE_LINE\n",
    "\n",
    "    # Add content with bullet points\n",
    "    for line in text.split('\\n'):\n",
    "        p = tf.add_paragraph()\n",
    "        p.text = f\"・{line}\"\n",
    "        p.level = 0\n",
    "        p.font.size = Pt(9)\n",
    "\n",
    "    # Add border to textbox\n",
    "    line = textbox.line\n",
    "    line.color.rgb = RGBColor(0, 0, 0)  # Black color\n",
    "    line.width = Pt(1.0)\n",
    "\n",
    "    return slide\n",
    "\n",
    "def create_slides(prs, data, positions, h_offset=0.5, v_offset=1.3):\n",
    "    for use_case in data['Use cases']:\n",
    "        title = f\"{use_case['Project Name']} ({use_case['Date']})\"\n",
    "        slide = create_slide(prs, title)\n",
    "        for section, (left, top, width, height) in positions.items():\n",
    "            if section in use_case['Lean Canvas']:\n",
    "                text = \"\\n\".join(use_case['Lean Canvas'][section])\n",
    "                add_textbox(slide, left+h_offset, top+v_offset, width, height, text, section)\n",
    "\n",
    "def prepare_presentation(file_path, scale_width=3, scale_height=2.4):\n",
    "    # Load data from YAML\n",
    "    with open(file_path, encoding=\"utf-8\") as file:\n",
    "        data = yaml.safe_load(file)\n",
    "\n",
    "    # Create a 16:9 presentation\n",
    "    prs = Presentation()\n",
    "    prs.slide_width = Inches(16)\n",
    "    prs.slide_height = Inches(9)\n",
    "\n",
    "    # Define position and size of each Lean Canvas sections\n",
    "    positions = {\n",
    "        'Problem': (0, 0, scale_width, scale_height*2),\n",
    "        'Solution': (scale_width, 0, scale_width, scale_height),\n",
    "        'Key Metrics': (scale_width, scale_height, scale_width, scale_height),\n",
    "        'Unique Value Proposition': (scale_width*2, 0, scale_width, scale_height*2),\n",
    "        'Unfair Advantage': (scale_width*3, 0, scale_width, scale_height),\n",
    "        'Channels': (scale_width*3, scale_height, scale_width, scale_height),\n",
    "        'Customer Segments': (scale_width*4, 0, scale_width, scale_height*2),\n",
    "        'Cost Structure': (0, scale_height*2, scale_width*2.5, scale_height),\n",
    "        'Revenue Streams': (scale_width*2.5, scale_height*2, scale_width*2.5, scale_height),\n",
    "    }\n",
    "\n",
    "    return prs, data, positions\n",
    "\n",
    "def parse_arguments():\n",
    "    # Parse command line arguments\n",
    "    parser = argparse.ArgumentParser(description='Create Lean Canvas presentation from YAML.')\n",
    "    parser.add_argument('-i', '--input', help='Input YAML file.', default='sample.yaml')\n",
    "    parser.add_argument('-o', '--output', help='Output PPTX file.', default='.pptx')\n",
    "    return parser.parse_args()\n",
    "\n",
    "def main():\n",
    "    from collections import namedtuple\n",
    "    Args = namedtuple('Args', ['input', 'output'])\n",
    "    args = Args('sample.yaml', 'sample.pptx')\n",
    "    #args = parse_arguments()\n",
    "\n",
    "\n",
    "    prs, data, positions = prepare_presentation(args.input)\n",
    "\n",
    "    # Add a slide for each use case\n",
    "    create_slides(prs, data, positions)\n",
    "\n",
    "    # Save the presentation\n",
    "    prs.save(args.output)\n",
    "\n",
    "if __name__ == \"__main__\":\n",
    "    main()\n"
   ]
  },
  {
   "cell_type": "code",
   "execution_count": null,
   "id": "ea5bbaf3-39c0-4a23-90d9-e00bec3d494e",
   "metadata": {},
   "outputs": [],
   "source": []
  }
 ],
 "metadata": {
  "kernelspec": {
   "display_name": "Python 3 (ipykernel)",
   "language": "python",
   "name": "python3"
  },
  "language_info": {
   "codemirror_mode": {
    "name": "ipython",
    "version": 3
   },
   "file_extension": ".py",
   "mimetype": "text/x-python",
   "name": "python",
   "nbconvert_exporter": "python",
   "pygments_lexer": "ipython3",
   "version": "3.11.4"
  }
 },
 "nbformat": 4,
 "nbformat_minor": 5
}
